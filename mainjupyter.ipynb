{
 "cells": [
  {
   "cell_type": "code",
   "execution_count": null,
   "metadata": {},
   "outputs": [],
   "source": [
    "# Get url from DVC\n",
    "import pandas as pd\n",
    "import dvc.api\n",
    "\n",
    "path='data/wine_original.csv'\n",
    "repo='/data_versioning'\n",
    "\n",
    "data_url = dvc.api.get_url(\n",
    "  path=path,\n",
    "  repo=repo\n",
    "  )\n",
    "\n",
    "data = pd.read_csv(data_url, sep=\";\")\n",
    "print(data)"
   ]
  }
 ],
 "metadata": {
  "language_info": {
   "name": "python"
  },
  "orig_nbformat": 4
 },
 "nbformat": 4,
 "nbformat_minor": 2
}
